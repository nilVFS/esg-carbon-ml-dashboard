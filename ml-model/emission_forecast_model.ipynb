{
 "cells": [
  {
   "cell_type": "markdown",
   "id": "691c85aa",
   "metadata": {},
   "source": [
    "#TODO\n",
    "- Добавление данных из форм\n",
    "- Решить проблему с json"
   ]
  },
  {
   "cell_type": "code",
   "execution_count": null,
   "id": "2bb3c838",
   "metadata": {},
   "outputs": [
    {
     "name": "stdout",
     "output_type": "stream",
     "text": [
      "Прогноз сохранён в src/data/forecast.json\n"
     ]
    }
   ],
   "source": [
    "import pandas as pd\n",
    "from sklearn.linear_model import LinearRegression\n",
    "import json\n",
    "\n",
    "data = {\n",
    "    'month': [1, 2, 3, 4, 5, 6],\n",
    "    'fuel_volume': [10000, 10500, 11000, 11500, 12000, 12500],\n",
    "    'emission_co2': [19074, 20027, 20981, 21935, 22889, 23843]\n",
    "}\n",
    "\n",
    "df = pd.DataFrame(data)\n",
    "\n",
    "# Обучение модели\n",
    "X = df[['month', 'fuel_volume']]\n",
    "y = df['emission_co2']\n",
    "model = LinearRegression()\n",
    "model.fit(X, y)\n",
    "\n",
    "# Прогноз\n",
    "future = pd.DataFrame({\n",
    "    'month': [7, 8, 9],\n",
    "    'fuel_volume': [13000, 13500, 14000]\n",
    "})\n",
    "forecast = model.predict(future)\n",
    "\n",
    "# Экспорт в JSON\n",
    "forecast_dict = {f\"month{i+7}\": round(forecast[i], 2) for i in range(3)}\n",
    "with open('../src/data/forecast.json', 'w', encoding='utf-8') as f:\n",
    "    json.dump(forecast_dict, f, ensure_ascii=False, indent=2)\n",
    "\n"
   ]
  }
 ],
 "metadata": {
  "kernelspec": {
   "display_name": "Python 3",
   "language": "python",
   "name": "python3"
  },
  "language_info": {
   "codemirror_mode": {
    "name": "ipython",
    "version": 3
   },
   "file_extension": ".py",
   "mimetype": "text/x-python",
   "name": "python",
   "nbconvert_exporter": "python",
   "pygments_lexer": "ipython3",
   "version": "3.12.4"
  }
 },
 "nbformat": 4,
 "nbformat_minor": 5
}
